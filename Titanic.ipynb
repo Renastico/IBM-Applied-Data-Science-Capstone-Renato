{
 "cells": [
  {
   "cell_type": "code",
   "execution_count": 7,
   "id": "8d44d224-b633-40c3-9009-f40e43e23b0b",
   "metadata": {},
   "outputs": [],
   "source": [
    "# Importação das bibliotecas\n",
    "import pandas as pd # => análise exploratória e tratamento dos dados\n",
    "import seaborn as srn # => visualização de dados\n",
    "import statistics as sts # => cálculos estatísticos\n",
    "import numpy as np # => cálculos em Array (estrutura de dados)\n",
    "import matplotlib.pyplot as plt # => visualização de dados\n",
    "from mpl_toolkits.mplot3d import axes3d\n",
    "from sklearn.linear_model import LogisticRegression\n",
    "\n",
    "from sklearn.model_selection import train_test_split\n",
    "from sklearn.preprocessing import LabelEncoder\n",
    "from sklearn.metrics import confusion_matrix, accuracy_score\n",
    "from sklearn.tree import DecisionTreeClassifier\n",
    "import graphviz\n",
    "from sklearn.tree import export_graphviz\n",
    "#conda install -c conda-forge python-graphviz (para evitar warnings)"
   ]
  },
  {
   "cell_type": "code",
   "execution_count": 369,
   "id": "d2546df9-e84c-49dd-adc9-9168f2b5c227",
   "metadata": {},
   "outputs": [
    {
     "data": {
      "text/html": [
       "<div>\n",
       "<style scoped>\n",
       "    .dataframe tbody tr th:only-of-type {\n",
       "        vertical-align: middle;\n",
       "    }\n",
       "\n",
       "    .dataframe tbody tr th {\n",
       "        vertical-align: top;\n",
       "    }\n",
       "\n",
       "    .dataframe thead th {\n",
       "        text-align: right;\n",
       "    }\n",
       "</style>\n",
       "<table border=\"1\" class=\"dataframe\">\n",
       "  <thead>\n",
       "    <tr style=\"text-align: right;\">\n",
       "      <th></th>\n",
       "      <th>PassengerId</th>\n",
       "      <th>Survived</th>\n",
       "      <th>Pclass</th>\n",
       "      <th>Name</th>\n",
       "      <th>Sex</th>\n",
       "      <th>Age</th>\n",
       "      <th>SibSp</th>\n",
       "      <th>Parch</th>\n",
       "      <th>Ticket</th>\n",
       "      <th>Fare</th>\n",
       "      <th>Cabin</th>\n",
       "      <th>Embarked</th>\n",
       "    </tr>\n",
       "  </thead>\n",
       "  <tbody>\n",
       "    <tr>\n",
       "      <th>0</th>\n",
       "      <td>1</td>\n",
       "      <td>0</td>\n",
       "      <td>3</td>\n",
       "      <td>Braund, Mr. Owen Harris</td>\n",
       "      <td>male</td>\n",
       "      <td>22.0</td>\n",
       "      <td>1</td>\n",
       "      <td>0</td>\n",
       "      <td>A/5 21171</td>\n",
       "      <td>7.2500</td>\n",
       "      <td>NaN</td>\n",
       "      <td>S</td>\n",
       "    </tr>\n",
       "    <tr>\n",
       "      <th>1</th>\n",
       "      <td>2</td>\n",
       "      <td>1</td>\n",
       "      <td>1</td>\n",
       "      <td>Cumings, Mrs. John Bradley (Florence Briggs Th...</td>\n",
       "      <td>female</td>\n",
       "      <td>38.0</td>\n",
       "      <td>1</td>\n",
       "      <td>0</td>\n",
       "      <td>PC 17599</td>\n",
       "      <td>71.2833</td>\n",
       "      <td>C85</td>\n",
       "      <td>C</td>\n",
       "    </tr>\n",
       "    <tr>\n",
       "      <th>2</th>\n",
       "      <td>3</td>\n",
       "      <td>1</td>\n",
       "      <td>3</td>\n",
       "      <td>Heikkinen, Miss. Laina</td>\n",
       "      <td>female</td>\n",
       "      <td>26.0</td>\n",
       "      <td>0</td>\n",
       "      <td>0</td>\n",
       "      <td>STON/O2. 3101282</td>\n",
       "      <td>7.9250</td>\n",
       "      <td>NaN</td>\n",
       "      <td>S</td>\n",
       "    </tr>\n",
       "    <tr>\n",
       "      <th>3</th>\n",
       "      <td>4</td>\n",
       "      <td>1</td>\n",
       "      <td>1</td>\n",
       "      <td>Futrelle, Mrs. Jacques Heath (Lily May Peel)</td>\n",
       "      <td>female</td>\n",
       "      <td>35.0</td>\n",
       "      <td>1</td>\n",
       "      <td>0</td>\n",
       "      <td>113803</td>\n",
       "      <td>53.1000</td>\n",
       "      <td>C123</td>\n",
       "      <td>S</td>\n",
       "    </tr>\n",
       "    <tr>\n",
       "      <th>4</th>\n",
       "      <td>5</td>\n",
       "      <td>0</td>\n",
       "      <td>3</td>\n",
       "      <td>Allen, Mr. William Henry</td>\n",
       "      <td>male</td>\n",
       "      <td>35.0</td>\n",
       "      <td>0</td>\n",
       "      <td>0</td>\n",
       "      <td>373450</td>\n",
       "      <td>8.0500</td>\n",
       "      <td>NaN</td>\n",
       "      <td>S</td>\n",
       "    </tr>\n",
       "  </tbody>\n",
       "</table>\n",
       "</div>"
      ],
      "text/plain": [
       "   PassengerId  Survived  Pclass  \\\n",
       "0            1         0       3   \n",
       "1            2         1       1   \n",
       "2            3         1       3   \n",
       "3            4         1       1   \n",
       "4            5         0       3   \n",
       "\n",
       "                                                Name     Sex   Age  SibSp  \\\n",
       "0                            Braund, Mr. Owen Harris    male  22.0      1   \n",
       "1  Cumings, Mrs. John Bradley (Florence Briggs Th...  female  38.0      1   \n",
       "2                             Heikkinen, Miss. Laina  female  26.0      0   \n",
       "3       Futrelle, Mrs. Jacques Heath (Lily May Peel)  female  35.0      1   \n",
       "4                           Allen, Mr. William Henry    male  35.0      0   \n",
       "\n",
       "   Parch            Ticket     Fare Cabin Embarked  \n",
       "0      0         A/5 21171   7.2500   NaN        S  \n",
       "1      0          PC 17599  71.2833   C85        C  \n",
       "2      0  STON/O2. 3101282   7.9250   NaN        S  \n",
       "3      0            113803  53.1000  C123        S  \n",
       "4      0            373450   8.0500   NaN        S  "
      ]
     },
     "execution_count": 369,
     "metadata": {},
     "output_type": "execute_result"
    }
   ],
   "source": [
    "# Carregamento da base de dados\n",
    "titanic = pd.read_csv('C:\\\\Users\\\\jjollo\\\\Desktop\\\\ST\\\\Renato\\\\Pós em Ciência de Dados\\\\train.csv', sep=\",\")\n",
    "titanic.head()"
   ]
  },
  {
   "cell_type": "code",
   "execution_count": 370,
   "id": "f8f4b154-c554-4afc-add9-2b86dceb3d9a",
   "metadata": {},
   "outputs": [
    {
     "data": {
      "text/html": [
       "<div>\n",
       "<style scoped>\n",
       "    .dataframe tbody tr th:only-of-type {\n",
       "        vertical-align: middle;\n",
       "    }\n",
       "\n",
       "    .dataframe tbody tr th {\n",
       "        vertical-align: top;\n",
       "    }\n",
       "\n",
       "    .dataframe thead th {\n",
       "        text-align: right;\n",
       "    }\n",
       "</style>\n",
       "<table border=\"1\" class=\"dataframe\">\n",
       "  <thead>\n",
       "    <tr style=\"text-align: right;\">\n",
       "      <th></th>\n",
       "      <th>Survived</th>\n",
       "      <th>Pclass</th>\n",
       "      <th>Sex</th>\n",
       "      <th>Age</th>\n",
       "      <th>SibSp</th>\n",
       "      <th>Parch</th>\n",
       "      <th>Fare</th>\n",
       "      <th>Embarked</th>\n",
       "    </tr>\n",
       "  </thead>\n",
       "  <tbody>\n",
       "    <tr>\n",
       "      <th>0</th>\n",
       "      <td>0</td>\n",
       "      <td>3</td>\n",
       "      <td>male</td>\n",
       "      <td>22.0</td>\n",
       "      <td>1</td>\n",
       "      <td>0</td>\n",
       "      <td>7.2500</td>\n",
       "      <td>S</td>\n",
       "    </tr>\n",
       "    <tr>\n",
       "      <th>1</th>\n",
       "      <td>1</td>\n",
       "      <td>1</td>\n",
       "      <td>female</td>\n",
       "      <td>38.0</td>\n",
       "      <td>1</td>\n",
       "      <td>0</td>\n",
       "      <td>71.2833</td>\n",
       "      <td>C</td>\n",
       "    </tr>\n",
       "    <tr>\n",
       "      <th>2</th>\n",
       "      <td>1</td>\n",
       "      <td>3</td>\n",
       "      <td>female</td>\n",
       "      <td>26.0</td>\n",
       "      <td>0</td>\n",
       "      <td>0</td>\n",
       "      <td>7.9250</td>\n",
       "      <td>S</td>\n",
       "    </tr>\n",
       "    <tr>\n",
       "      <th>3</th>\n",
       "      <td>1</td>\n",
       "      <td>1</td>\n",
       "      <td>female</td>\n",
       "      <td>35.0</td>\n",
       "      <td>1</td>\n",
       "      <td>0</td>\n",
       "      <td>53.1000</td>\n",
       "      <td>S</td>\n",
       "    </tr>\n",
       "    <tr>\n",
       "      <th>4</th>\n",
       "      <td>0</td>\n",
       "      <td>3</td>\n",
       "      <td>male</td>\n",
       "      <td>35.0</td>\n",
       "      <td>0</td>\n",
       "      <td>0</td>\n",
       "      <td>8.0500</td>\n",
       "      <td>S</td>\n",
       "    </tr>\n",
       "  </tbody>\n",
       "</table>\n",
       "</div>"
      ],
      "text/plain": [
       "   Survived  Pclass     Sex   Age  SibSp  Parch     Fare Embarked\n",
       "0         0       3    male  22.0      1      0   7.2500        S\n",
       "1         1       1  female  38.0      1      0  71.2833        C\n",
       "2         1       3  female  26.0      0      0   7.9250        S\n",
       "3         1       1  female  35.0      1      0  53.1000        S\n",
       "4         0       3    male  35.0      0      0   8.0500        S"
      ]
     },
     "execution_count": 370,
     "metadata": {},
     "output_type": "execute_result"
    }
   ],
   "source": [
    "#retirar variáveis não relevantes\n",
    "titanic = titanic.drop(columns=['PassengerId','Name','Ticket','Cabin'])\n",
    "titanic.head()"
   ]
  },
  {
   "cell_type": "code",
   "execution_count": 371,
   "id": "2cce35b1-23f0-4a5d-be86-ef22938b1c55",
   "metadata": {},
   "outputs": [
    {
     "name": "stdout",
     "output_type": "stream",
     "text": [
      "<class 'pandas.core.frame.DataFrame'>\n",
      "RangeIndex: 891 entries, 0 to 890\n",
      "Data columns (total 8 columns):\n",
      " #   Column    Non-Null Count  Dtype  \n",
      "---  ------    --------------  -----  \n",
      " 0   Survived  891 non-null    int64  \n",
      " 1   Pclass    891 non-null    int64  \n",
      " 2   Sex       891 non-null    object \n",
      " 3   Age       714 non-null    float64\n",
      " 4   SibSp     891 non-null    int64  \n",
      " 5   Parch     891 non-null    int64  \n",
      " 6   Fare      891 non-null    float64\n",
      " 7   Embarked  889 non-null    object \n",
      "dtypes: float64(2), int64(4), object(2)\n",
      "memory usage: 55.8+ KB\n"
     ]
    }
   ],
   "source": [
    "titanic.info()"
   ]
  },
  {
   "cell_type": "code",
   "execution_count": 372,
   "id": "d53c9175-1f7a-4778-b525-03032f02782a",
   "metadata": {},
   "outputs": [
    {
     "data": {
      "text/plain": [
       "Survived      0\n",
       "Pclass        0\n",
       "Sex           0\n",
       "Age         177\n",
       "SibSp         0\n",
       "Parch         0\n",
       "Fare          0\n",
       "Embarked      2\n",
       "dtype: int64"
      ]
     },
     "execution_count": 372,
     "metadata": {},
     "output_type": "execute_result"
    }
   ],
   "source": [
    "#check missings\n",
    "#titanic[titanic['Age'].isna()]\n",
    "\n",
    "#verificar campos nulos\n",
    "titanic.isnull().sum()"
   ]
  },
  {
   "cell_type": "code",
   "execution_count": 373,
   "id": "e4819e58-a3d7-48e3-ad99-b78cf9091b24",
   "metadata": {},
   "outputs": [
    {
     "data": {
      "text/plain": [
       "count    714.000000\n",
       "mean      29.699118\n",
       "std       14.526497\n",
       "min        0.420000\n",
       "25%       20.125000\n",
       "50%       28.000000\n",
       "75%       38.000000\n",
       "max       80.000000\n",
       "Name: Age, dtype: float64"
      ]
     },
     "execution_count": 373,
     "metadata": {},
     "output_type": "execute_result"
    }
   ],
   "source": [
    "titanic['Age'].describe()"
   ]
  },
  {
   "cell_type": "code",
   "execution_count": 374,
   "id": "069e345c-2fa5-4ef2-a3b4-f4570ff65622",
   "metadata": {},
   "outputs": [],
   "source": [
    "#remover nas e substiutir pela mediana\n",
    "titanic[\"Age\"] = titanic[\"Age\"].fillna(titanic[\"Age\"].dropna().median())\n",
    "titanic['Embarked'].fillna('S', inplace=True)"
   ]
  },
  {
   "cell_type": "code",
   "execution_count": 375,
   "id": "f1542023-0768-4954-b1d4-b660b1b2c88b",
   "metadata": {},
   "outputs": [
    {
     "data": {
      "text/plain": [
       "28.0"
      ]
     },
     "execution_count": 375,
     "metadata": {},
     "output_type": "execute_result"
    }
   ],
   "source": [
    "#remover nas e substiutir pela mediana\n",
    "mediana = sts.median(titanic['Age'])\n",
    "mediana"
   ]
  },
  {
   "cell_type": "code",
   "execution_count": 376,
   "id": "82c3e4ca-3c7f-463d-9e3b-8e1e3d05cefa",
   "metadata": {},
   "outputs": [
    {
     "data": {
      "text/plain": [
       "Survived    0\n",
       "Pclass      0\n",
       "Sex         0\n",
       "Age         0\n",
       "SibSp       0\n",
       "Parch       0\n",
       "Fare        0\n",
       "Embarked    0\n",
       "dtype: int64"
      ]
     },
     "execution_count": 376,
     "metadata": {},
     "output_type": "execute_result"
    }
   ],
   "source": [
    "#verificar campos nulos\n",
    "titanic.isnull().sum()"
   ]
  },
  {
   "cell_type": "code",
   "execution_count": 377,
   "id": "79d60d4f-4cc7-43de-a430-61a29ff7fddd",
   "metadata": {},
   "outputs": [
    {
     "name": "stdout",
     "output_type": "stream",
     "text": [
      "<class 'pandas.core.frame.DataFrame'>\n",
      "RangeIndex: 891 entries, 0 to 890\n",
      "Data columns (total 8 columns):\n",
      " #   Column    Non-Null Count  Dtype  \n",
      "---  ------    --------------  -----  \n",
      " 0   Survived  891 non-null    int64  \n",
      " 1   Pclass    891 non-null    int64  \n",
      " 2   Sex       891 non-null    object \n",
      " 3   Age       891 non-null    float64\n",
      " 4   SibSp     891 non-null    int64  \n",
      " 5   Parch     891 non-null    int64  \n",
      " 6   Fare      891 non-null    float64\n",
      " 7   Embarked  891 non-null    object \n",
      "dtypes: float64(2), int64(4), object(2)\n",
      "memory usage: 55.8+ KB\n"
     ]
    }
   ],
   "source": [
    "titanic.info()"
   ]
  },
  {
   "cell_type": "code",
   "execution_count": 378,
   "id": "9c18e519-d146-4ca0-9ec1-3da22943a1c1",
   "metadata": {},
   "outputs": [],
   "source": [
    "titanic['Age'] = titanic['Age'].astype('int64')\n",
    "titanic['Fare'] = titanic['Fare'].astype('int64')\n",
    "#titanic['Sex'] = titanic['Sex'].astype('string')\n",
    "#titanic['Embarked'] = titanic['Embarked'].astype('string')\n",
    "\n",
    "#conversão em inteiro criando um novo campo\n",
    "#titanic[\"tarifa\"]= titanic[\"Fare\"].astype(int)\n",
    "#titanic.head(10)"
   ]
  },
  {
   "cell_type": "code",
   "execution_count": 379,
   "id": "de9cdd77-b8f9-4ad0-8814-447753b573ea",
   "metadata": {},
   "outputs": [
    {
     "name": "stdout",
     "output_type": "stream",
     "text": [
      "<class 'pandas.core.frame.DataFrame'>\n",
      "RangeIndex: 891 entries, 0 to 890\n",
      "Data columns (total 8 columns):\n",
      " #   Column    Non-Null Count  Dtype \n",
      "---  ------    --------------  ----- \n",
      " 0   Survived  891 non-null    int64 \n",
      " 1   Pclass    891 non-null    int64 \n",
      " 2   Sex       891 non-null    object\n",
      " 3   Age       891 non-null    int64 \n",
      " 4   SibSp     891 non-null    int64 \n",
      " 5   Parch     891 non-null    int64 \n",
      " 6   Fare      891 non-null    int64 \n",
      " 7   Embarked  891 non-null    object\n",
      "dtypes: int64(6), object(2)\n",
      "memory usage: 55.8+ KB\n"
     ]
    }
   ],
   "source": [
    "titanic.info()"
   ]
  },
  {
   "cell_type": "code",
   "execution_count": 380,
   "id": "e52ddd06-bbd7-4f60-b503-d92af055fdac",
   "metadata": {},
   "outputs": [
    {
     "data": {
      "text/html": [
       "<div>\n",
       "<style scoped>\n",
       "    .dataframe tbody tr th:only-of-type {\n",
       "        vertical-align: middle;\n",
       "    }\n",
       "\n",
       "    .dataframe tbody tr th {\n",
       "        vertical-align: top;\n",
       "    }\n",
       "\n",
       "    .dataframe thead th {\n",
       "        text-align: right;\n",
       "    }\n",
       "</style>\n",
       "<table border=\"1\" class=\"dataframe\">\n",
       "  <thead>\n",
       "    <tr style=\"text-align: right;\">\n",
       "      <th></th>\n",
       "      <th>Survived</th>\n",
       "      <th>Pclass</th>\n",
       "      <th>Sex</th>\n",
       "      <th>Age</th>\n",
       "      <th>SibSp</th>\n",
       "      <th>Parch</th>\n",
       "      <th>Fare</th>\n",
       "      <th>Embarked</th>\n",
       "    </tr>\n",
       "  </thead>\n",
       "  <tbody>\n",
       "    <tr>\n",
       "      <th>0</th>\n",
       "      <td>0</td>\n",
       "      <td>3</td>\n",
       "      <td>0</td>\n",
       "      <td>22</td>\n",
       "      <td>1</td>\n",
       "      <td>0</td>\n",
       "      <td>7</td>\n",
       "      <td>2</td>\n",
       "    </tr>\n",
       "    <tr>\n",
       "      <th>1</th>\n",
       "      <td>1</td>\n",
       "      <td>1</td>\n",
       "      <td>1</td>\n",
       "      <td>38</td>\n",
       "      <td>1</td>\n",
       "      <td>0</td>\n",
       "      <td>71</td>\n",
       "      <td>0</td>\n",
       "    </tr>\n",
       "    <tr>\n",
       "      <th>2</th>\n",
       "      <td>1</td>\n",
       "      <td>3</td>\n",
       "      <td>1</td>\n",
       "      <td>26</td>\n",
       "      <td>0</td>\n",
       "      <td>0</td>\n",
       "      <td>7</td>\n",
       "      <td>2</td>\n",
       "    </tr>\n",
       "    <tr>\n",
       "      <th>3</th>\n",
       "      <td>1</td>\n",
       "      <td>1</td>\n",
       "      <td>1</td>\n",
       "      <td>35</td>\n",
       "      <td>1</td>\n",
       "      <td>0</td>\n",
       "      <td>53</td>\n",
       "      <td>2</td>\n",
       "    </tr>\n",
       "    <tr>\n",
       "      <th>4</th>\n",
       "      <td>0</td>\n",
       "      <td>3</td>\n",
       "      <td>0</td>\n",
       "      <td>35</td>\n",
       "      <td>0</td>\n",
       "      <td>0</td>\n",
       "      <td>8</td>\n",
       "      <td>2</td>\n",
       "    </tr>\n",
       "  </tbody>\n",
       "</table>\n",
       "</div>"
      ],
      "text/plain": [
       "   Survived  Pclass  Sex  Age  SibSp  Parch  Fare  Embarked\n",
       "0         0       3    0   22      1      0     7         2\n",
       "1         1       1    1   38      1      0    71         0\n",
       "2         1       3    1   26      0      0     7         2\n",
       "3         1       1    1   35      1      0    53         2\n",
       "4         0       3    0   35      0      0     8         2"
      ]
     },
     "execution_count": 380,
     "metadata": {},
     "output_type": "execute_result"
    }
   ],
   "source": [
    "# substituir valores categóricos por numéricos\n",
    "titanic['Sex'] = titanic['Sex'].replace(['male','female'],[0,1])\n",
    "titanic['Embarked'] = titanic['Embarked'].replace(['C','Q','S'],[0,1,2])\n",
    "titanic.head()"
   ]
  },
  {
   "cell_type": "code",
   "execution_count": 381,
   "id": "3da6e08c-7f10-4004-91ed-fd76c20555cc",
   "metadata": {},
   "outputs": [],
   "source": [
    "# pd.get_dummies Converta variáveis categóricas em variáveis 0,1.\n",
    "#titanic = pd.get_dummies(titanic, columns=['Sex', 'Embarked'])\n",
    "#titanic.head()\n",
    "\n",
    "#titanic = pd.get_dummies(titanic['Sex'])"
   ]
  },
  {
   "cell_type": "code",
   "execution_count": 382,
   "id": "63691902-b250-413e-8bab-0cdc3fef34ab",
   "metadata": {},
   "outputs": [
    {
     "name": "stdout",
     "output_type": "stream",
     "text": [
      "<class 'pandas.core.frame.DataFrame'>\n",
      "RangeIndex: 891 entries, 0 to 890\n",
      "Data columns (total 8 columns):\n",
      " #   Column    Non-Null Count  Dtype\n",
      "---  ------    --------------  -----\n",
      " 0   Survived  891 non-null    int64\n",
      " 1   Pclass    891 non-null    int64\n",
      " 2   Sex       891 non-null    int64\n",
      " 3   Age       891 non-null    int64\n",
      " 4   SibSp     891 non-null    int64\n",
      " 5   Parch     891 non-null    int64\n",
      " 6   Fare      891 non-null    int64\n",
      " 7   Embarked  891 non-null    int64\n",
      "dtypes: int64(8)\n",
      "memory usage: 55.8 KB\n"
     ]
    }
   ],
   "source": [
    "titanic.info()"
   ]
  },
  {
   "cell_type": "code",
   "execution_count": 383,
   "id": "63591271-e808-4631-9054-d9e10d08801c",
   "metadata": {},
   "outputs": [
    {
     "data": {
      "text/plain": [
       "Text(0.5, 0, 'Idade')"
      ]
     },
     "execution_count": 383,
     "metadata": {},
     "output_type": "execute_result"
    },
    {
     "data": {
      "image/png": "[encoded data removed]",
      "text/plain": [
       "<Figure size 432x288 with 1 Axes>"
      ]
     },
     "metadata": {
      "needs_background": "light"
     },
     "output_type": "display_data"
    }
   ],
   "source": [
    "# Visualização do histograma com 5 divisões (bins)\n",
    "plt.hist(titanic.iloc[:,4], bins = 5)\n",
    "plt.title('Idade')\n",
    "plt.ylabel('Quantidade')\n",
    "plt.xlabel('Idade')"
   ]
  },
  {
   "cell_type": "code",
   "execution_count": 384,
   "id": "60e98608-466e-4b93-9146-0b14e83ac21e",
   "metadata": {},
   "outputs": [
    {
     "name": "stderr",
     "output_type": "stream",
     "text": [
      "C:\\Users\\jjollo\\anaconda3\\lib\\site-packages\\seaborn\\distributions.py:2557: FutureWarning: `distplot` is a deprecated function and will be removed in a future version. Please adapt your code to use either `displot` (a figure-level function with similar flexibility) or `histplot` (an axes-level function for histograms).\n",
      "  warnings.warn(msg, FutureWarning)\n"
     ]
    },
    {
     "data": {
      "text/plain": [
       "Text(0.5, 1.0, 'Idade')"
      ]
     },
     "execution_count": 384,
     "metadata": {},
     "output_type": "execute_result"
    },
    {
     "data": {
      "image/png": "[encoded data removed]",
      "text/plain": [
       "<Figure size 432x288 with 1 Axes>"
      ]
     },
     "metadata": {
      "needs_background": "light"
     },
     "output_type": "display_data"
    }
   ],
   "source": [
    "#histograma\n",
    "srn.distplot(titanic['Age']).set_title('Idade')"
   ]
  },
  {
   "cell_type": "code",
   "execution_count": 385,
   "id": "8b926204-0998-4c02-8ced-170b79797399",
   "metadata": {},
   "outputs": [
    {
     "name": "stderr",
     "output_type": "stream",
     "text": [
      "C:\\Users\\jjollo\\anaconda3\\lib\\site-packages\\seaborn\\_decorators.py:36: FutureWarning: Pass the following variable as a keyword arg: x. From version 0.12, the only valid positional argument will be `data`, and passing other arguments without an explicit keyword will result in an error or misinterpretation.\n",
      "  warnings.warn(\n"
     ]
    },
    {
     "data": {
      "text/plain": [
       "Text(0.5, 1.0, 'Idade')"
      ]
     },
     "execution_count": 385,
     "metadata": {},
     "output_type": "execute_result"
    },
    {
     "data": {
      "image/png": "[encoded data removed]",
      "text/plain": [
       "<Figure size 432x288 with 1 Axes>"
      ]
     },
     "metadata": {
      "needs_background": "light"
     },
     "output_type": "display_data"
    }
   ],
   "source": [
    "#boxplot\n",
    "srn.boxplot(titanic['Age']).set_title('Idade')"
   ]
  },
  {
   "cell_type": "code",
   "execution_count": 386,
   "id": "c91464f2-5702-4126-aca8-146e878a3baf",
   "metadata": {},
   "outputs": [
    {
     "data": {
      "text/plain": [
       "Text(0.5, 0, 'irmãos/cônjuges')"
      ]
     },
     "execution_count": 386,
     "metadata": {},
     "output_type": "execute_result"
    },
    {
     "data": {
      "image/png": "[encoded data removed]",
      "text/plain": [
       "<Figure size 432x288 with 1 Axes>"
      ]
     },
     "metadata": {
      "needs_background": "light"
     },
     "output_type": "display_data"
    }
   ],
   "source": [
    "# Visualização do histograma com 5 divisões (bins)\n",
    "plt.hist(titanic.iloc[:,5], bins = 5)\n",
    "plt.title('irmãos/cônjuges')\n",
    "plt.ylabel('Quantidade')\n",
    "plt.xlabel('irmãos/cônjuges')"
   ]
  },
  {
   "cell_type": "code",
   "execution_count": 387,
   "id": "aa3aa189-26b7-4e15-ba30-bdfeb8855aa3",
   "metadata": {},
   "outputs": [
    {
     "name": "stderr",
     "output_type": "stream",
     "text": [
      "C:\\Users\\jjollo\\anaconda3\\lib\\site-packages\\seaborn\\distributions.py:2557: FutureWarning: `distplot` is a deprecated function and will be removed in a future version. Please adapt your code to use either `displot` (a figure-level function with similar flexibility) or `histplot` (an axes-level function for histograms).\n",
      "  warnings.warn(msg, FutureWarning)\n"
     ]
    },
    {
     "data": {
      "text/plain": [
       "Text(0.5, 1.0, 'irmãos/cônjuges')"
      ]
     },
     "execution_count": 387,
     "metadata": {},
     "output_type": "execute_result"
    },
    {
     "data": {
      "image/png": "[encoded data removed]",
      "text/plain": [
       "<Figure size 432x288 with 1 Axes>"
      ]
     },
     "metadata": {
      "needs_background": "light"
     },
     "output_type": "display_data"
    }
   ],
   "source": [
    "#histograma\n",
    "srn.distplot(titanic['SibSp']).set_title('irmãos/cônjuges')"
   ]
  },
  {
   "cell_type": "code",
   "execution_count": 388,
   "id": "60d52720-749b-4584-a4e2-f97c9ba7c928",
   "metadata": {},
   "outputs": [
    {
     "data": {
      "text/plain": [
       "Text(0.5, 0, 'pais/filhos')"
      ]
     },
     "execution_count": 388,
     "metadata": {},
     "output_type": "execute_result"
    },
    {
     "data": {
      "image/png": "[encoded data removed]",
      "text/plain": [
       "<Figure size 432x288 with 1 Axes>"
      ]
     },
     "metadata": {
      "needs_background": "light"
     },
     "output_type": "display_data"
    }
   ],
   "source": [
    "# Visualização do histograma com 5 divisões (bins)\n",
    "plt.hist(titanic.iloc[:,6], bins = 5)\n",
    "plt.title('pais/filhos')\n",
    "plt.ylabel('Quantidade')\n",
    "plt.xlabel('pais/filhos')"
   ]
  },
  {
   "cell_type": "code",
   "execution_count": 389,
   "id": "de30d7f9-bc1b-4c73-8eb8-8925e7888dc5",
   "metadata": {},
   "outputs": [
    {
     "name": "stderr",
     "output_type": "stream",
     "text": [
      "C:\\Users\\jjollo\\anaconda3\\lib\\site-packages\\seaborn\\distributions.py:2557: FutureWarning: `distplot` is a deprecated function and will be removed in a future version. Please adapt your code to use either `displot` (a figure-level function with similar flexibility) or `histplot` (an axes-level function for histograms).\n",
      "  warnings.warn(msg, FutureWarning)\n"
     ]
    },
    {
     "data": {
      "text/plain": [
       "Text(0.5, 1.0, 'pais/filhos')"
      ]
     },
     "execution_count": 389,
     "metadata": {},
     "output_type": "execute_result"
    },
    {
     "data": {
      "image/png": "[encoded data removed]",
      "text/plain": [
       "<Figure size 432x288 with 1 Axes>"
      ]
     },
     "metadata": {
      "needs_background": "light"
     },
     "output_type": "display_data"
    }
   ],
   "source": [
    "#histograma\n",
    "srn.distplot(titanic['Parch']).set_title('pais/filhos')"
   ]
  },
  {
   "cell_type": "code",
   "execution_count": 390,
   "id": "cd7020d7-2214-496e-a730-de9a4e2be355",
   "metadata": {},
   "outputs": [
    {
     "data": {
      "text/plain": [
       "Text(0.5, 0, 'tarifa')"
      ]
     },
     "execution_count": 390,
     "metadata": {},
     "output_type": "execute_result"
    },
    {
     "data": {
      "image/png": "[encoded data removed]",
      "text/plain": [
       "<Figure size 432x288 with 1 Axes>"
      ]
     },
     "metadata": {
      "needs_background": "light"
     },
     "output_type": "display_data"
    }
   ],
   "source": [
    "# Visualização do histograma com 5 divisões (bins)\n",
    "plt.hist(titanic.iloc[:,7], bins = 5)\n",
    "plt.title('tarifa')\n",
    "plt.ylabel('Quantidade')\n",
    "plt.xlabel('tarifa')"
   ]
  },
  {
   "cell_type": "code",
   "execution_count": 391,
   "id": "0e2d3448-23e1-49de-8512-66f4573fcbb1",
   "metadata": {},
   "outputs": [
    {
     "name": "stderr",
     "output_type": "stream",
     "text": [
      "C:\\Users\\jjollo\\anaconda3\\lib\\site-packages\\seaborn\\distributions.py:2557: FutureWarning: `distplot` is a deprecated function and will be removed in a future version. Please adapt your code to use either `displot` (a figure-level function with similar flexibility) or `histplot` (an axes-level function for histograms).\n",
      "  warnings.warn(msg, FutureWarning)\n"
     ]
    },
    {
     "data": {
      "text/plain": [
       "Text(0.5, 1.0, 'tarifa')"
      ]
     },
     "execution_count": 391,
     "metadata": {},
     "output_type": "execute_result"
    },
    {
     "data": {
      "image/png": "[encoded data removed]",
      "text/plain": [
       "<Figure size 432x288 with 1 Axes>"
      ]
     },
     "metadata": {
      "needs_background": "light"
     },
     "output_type": "display_data"
    }
   ],
   "source": [
    "#histograma\n",
    "srn.distplot(titanic['Fare']).set_title('tarifa')"
   ]
  },
  {
   "cell_type": "code",
   "execution_count": 392,
   "id": "ce0f77c5-fc1a-4bfc-b530-55c842f08a31",
   "metadata": {},
   "outputs": [
    {
     "name": "stderr",
     "output_type": "stream",
     "text": [
      "C:\\Users\\jjollo\\anaconda3\\lib\\site-packages\\seaborn\\_decorators.py:36: FutureWarning: Pass the following variable as a keyword arg: x. From version 0.12, the only valid positional argument will be `data`, and passing other arguments without an explicit keyword will result in an error or misinterpretation.\n",
      "  warnings.warn(\n"
     ]
    },
    {
     "data": {
      "text/plain": [
       "Text(0.5, 1.0, 'tarifa')"
      ]
     },
     "execution_count": 392,
     "metadata": {},
     "output_type": "execute_result"
    },
    {
     "data": {
      "image/png": "[encoded data removed]",
      "text/plain": [
       "<Figure size 432x288 with 1 Axes>"
      ]
     },
     "metadata": {
      "needs_background": "light"
     },
     "output_type": "display_data"
    }
   ],
   "source": [
    "#boxplot\n",
    "srn.boxplot(titanic['Fare']).set_title('tarifa')"
   ]
  },
  {
   "cell_type": "code",
   "execution_count": 393,
   "id": "6fa039a8-f9f4-4b7e-8d7c-cea0e8ff8267",
   "metadata": {},
   "outputs": [],
   "source": [
    "#verificar dados duplicados\n",
    "#titanic[titanic.duplicated(['Name'],keep=False)]"
   ]
  },
  {
   "cell_type": "code",
   "execution_count": 395,
   "id": "5d14d12a-823e-4241-ba9c-821ec7bae96a",
   "metadata": {},
   "outputs": [
    {
     "data": {
      "text/html": [
       "<div>\n",
       "<style scoped>\n",
       "    .dataframe tbody tr th:only-of-type {\n",
       "        vertical-align: middle;\n",
       "    }\n",
       "\n",
       "    .dataframe tbody tr th {\n",
       "        vertical-align: top;\n",
       "    }\n",
       "\n",
       "    .dataframe thead th {\n",
       "        text-align: right;\n",
       "    }\n",
       "</style>\n",
       "<table border=\"1\" class=\"dataframe\">\n",
       "  <thead>\n",
       "    <tr style=\"text-align: right;\">\n",
       "      <th></th>\n",
       "      <th>Age</th>\n",
       "      <th>Survived</th>\n",
       "    </tr>\n",
       "  </thead>\n",
       "  <tbody>\n",
       "    <tr>\n",
       "      <th>0</th>\n",
       "      <td>0</td>\n",
       "      <td>7</td>\n",
       "    </tr>\n",
       "    <tr>\n",
       "      <th>1</th>\n",
       "      <td>1</td>\n",
       "      <td>7</td>\n",
       "    </tr>\n",
       "    <tr>\n",
       "      <th>2</th>\n",
       "      <td>2</td>\n",
       "      <td>10</td>\n",
       "    </tr>\n",
       "    <tr>\n",
       "      <th>3</th>\n",
       "      <td>3</td>\n",
       "      <td>6</td>\n",
       "    </tr>\n",
       "    <tr>\n",
       "      <th>4</th>\n",
       "      <td>4</td>\n",
       "      <td>10</td>\n",
       "    </tr>\n",
       "    <tr>\n",
       "      <th>...</th>\n",
       "      <td>...</td>\n",
       "      <td>...</td>\n",
       "    </tr>\n",
       "    <tr>\n",
       "      <th>66</th>\n",
       "      <td>66</td>\n",
       "      <td>1</td>\n",
       "    </tr>\n",
       "    <tr>\n",
       "      <th>67</th>\n",
       "      <td>70</td>\n",
       "      <td>3</td>\n",
       "    </tr>\n",
       "    <tr>\n",
       "      <th>68</th>\n",
       "      <td>71</td>\n",
       "      <td>2</td>\n",
       "    </tr>\n",
       "    <tr>\n",
       "      <th>69</th>\n",
       "      <td>74</td>\n",
       "      <td>1</td>\n",
       "    </tr>\n",
       "    <tr>\n",
       "      <th>70</th>\n",
       "      <td>80</td>\n",
       "      <td>1</td>\n",
       "    </tr>\n",
       "  </tbody>\n",
       "</table>\n",
       "<p>71 rows × 2 columns</p>\n",
       "</div>"
      ],
      "text/plain": [
       "    Age  Survived\n",
       "0     0         7\n",
       "1     1         7\n",
       "2     2        10\n",
       "3     3         6\n",
       "4     4        10\n",
       "..  ...       ...\n",
       "66   66         1\n",
       "67   70         3\n",
       "68   71         2\n",
       "69   74         1\n",
       "70   80         1\n",
       "\n",
       "[71 rows x 2 columns]"
      ]
     },
     "execution_count": 395,
     "metadata": {},
     "output_type": "execute_result"
    }
   ],
   "source": [
    "#criar grupos de idade\n",
    "agrupado_idade = titanic.groupby(['Age'], as_index=False)['Survived'].count()\n",
    "agrupado_idade"
   ]
  },
  {
   "cell_type": "code",
   "execution_count": 397,
   "id": "35ebfbe7-78d9-4429-b87d-72da71ccc144",
   "metadata": {},
   "outputs": [
    {
     "data": {
      "text/plain": [
       "<AxesSubplot:xlabel='Faixa_Idade'>"
      ]
     },
     "execution_count": 397,
     "metadata": {},
     "output_type": "execute_result"
    },
    {
     "data": {
      "image/png": "[encoded data removed]",
      "text/plain": [
       "<Figure size 432x288 with 1 Axes>"
      ]
     },
     "metadata": {
      "needs_background": "light"
     },
     "output_type": "display_data"
    }
   ],
   "source": [
    "titanic['Faixa_Idade']=pd.cut(titanic.Age, bins=[0.0,10.0,15.0,20.0,30.0,40.0,50.0,60.0,np.inf], right=False)\n",
    "titanic.groupby(['Faixa_Idade'], as_index=False)['Survived'].count().set_index('Faixa_Idade').plot(kind='bar')"
   ]
  },
  {
   "cell_type": "code",
   "execution_count": 398,
   "id": "4949cf98-7dcd-4bb3-a93c-166b0d3f28f3",
   "metadata": {},
   "outputs": [
    {
     "data": {
      "text/html": [
       "<div>\n",
       "<style scoped>\n",
       "    .dataframe tbody tr th:only-of-type {\n",
       "        vertical-align: middle;\n",
       "    }\n",
       "\n",
       "    .dataframe tbody tr th {\n",
       "        vertical-align: top;\n",
       "    }\n",
       "\n",
       "    .dataframe thead th {\n",
       "        text-align: right;\n",
       "    }\n",
       "</style>\n",
       "<table border=\"1\" class=\"dataframe\">\n",
       "  <thead>\n",
       "    <tr style=\"text-align: right;\">\n",
       "      <th></th>\n",
       "      <th>Survived</th>\n",
       "    </tr>\n",
       "    <tr>\n",
       "      <th>Faixa_Idade</th>\n",
       "      <th></th>\n",
       "    </tr>\n",
       "  </thead>\n",
       "  <tbody>\n",
       "    <tr>\n",
       "      <th>[0.0, 10.0)</th>\n",
       "      <td>62</td>\n",
       "    </tr>\n",
       "    <tr>\n",
       "      <th>[10.0, 15.0)</th>\n",
       "      <td>16</td>\n",
       "    </tr>\n",
       "    <tr>\n",
       "      <th>[15.0, 20.0)</th>\n",
       "      <td>86</td>\n",
       "    </tr>\n",
       "    <tr>\n",
       "      <th>[20.0, 30.0)</th>\n",
       "      <td>397</td>\n",
       "    </tr>\n",
       "    <tr>\n",
       "      <th>[30.0, 40.0)</th>\n",
       "      <td>167</td>\n",
       "    </tr>\n",
       "    <tr>\n",
       "      <th>[40.0, 50.0)</th>\n",
       "      <td>89</td>\n",
       "    </tr>\n",
       "    <tr>\n",
       "      <th>[50.0, 60.0)</th>\n",
       "      <td>48</td>\n",
       "    </tr>\n",
       "    <tr>\n",
       "      <th>[60.0, inf)</th>\n",
       "      <td>26</td>\n",
       "    </tr>\n",
       "  </tbody>\n",
       "</table>\n",
       "</div>"
      ],
      "text/plain": [
       "              Survived\n",
       "Faixa_Idade           \n",
       "[0.0, 10.0)         62\n",
       "[10.0, 15.0)        16\n",
       "[15.0, 20.0)        86\n",
       "[20.0, 30.0)       397\n",
       "[30.0, 40.0)       167\n",
       "[40.0, 50.0)        89\n",
       "[50.0, 60.0)        48\n",
       "[60.0, inf)         26"
      ]
     },
     "execution_count": 398,
     "metadata": {},
     "output_type": "execute_result"
    }
   ],
   "source": [
    "titanic['Faixa_Idade']=pd.cut(titanic.Age, bins=[0.0,10.0,15.0,20.0,30.0,40.0,50.0,60,np.inf], right=False)\n",
    "titanic.groupby(['Faixa_Idade'], as_index=False)['Survived'].count().set_index('Faixa_Idade')"
   ]
  },
  {
   "cell_type": "code",
   "execution_count": 399,
   "id": "999b62ba-b72c-45af-81e2-3d5a992f3170",
   "metadata": {},
   "outputs": [
    {
     "data": {
      "text/plain": [
       "Survived  Sex  Faixa_Idade \n",
       "0         0    [0.0, 10.0)      13\n",
       "               [10.0, 15.0)      5\n",
       "               [15.0, 20.0)     45\n",
       "               [20.0, 30.0)    231\n",
       "               [30.0, 40.0)     84\n",
       "               [40.0, 50.0)     45\n",
       "               [50.0, 60.0)     26\n",
       "               [60.0, inf)      19\n",
       "          1    [0.0, 10.0)      11\n",
       "               [10.0, 15.0)      4\n",
       "               [15.0, 20.0)      7\n",
       "               [20.0, 30.0)     37\n",
       "               [30.0, 40.0)     10\n",
       "               [40.0, 50.0)     10\n",
       "               [50.0, 60.0)      2\n",
       "               [60.0, inf)       0\n",
       "1         0    [0.0, 10.0)      19\n",
       "               [10.0, 15.0)      2\n",
       "               [15.0, 20.0)      5\n",
       "               [20.0, 30.0)     41\n",
       "               [30.0, 40.0)     23\n",
       "               [40.0, 50.0)     12\n",
       "               [50.0, 60.0)      4\n",
       "               [60.0, inf)       3\n",
       "          1    [0.0, 10.0)      19\n",
       "               [10.0, 15.0)      5\n",
       "               [15.0, 20.0)     29\n",
       "               [20.0, 30.0)     88\n",
       "               [30.0, 40.0)     50\n",
       "               [40.0, 50.0)     22\n",
       "               [50.0, 60.0)     16\n",
       "               [60.0, inf)       4\n",
       "dtype: int64"
      ]
     },
     "execution_count": 399,
     "metadata": {},
     "output_type": "execute_result"
    }
   ],
   "source": [
    "#0 = No, 1 = Yes\n",
    "agrupado = titanic.groupby(['Survived','Sex','Faixa_Idade']).size()\n",
    "agrupado\n",
    "\n",
    "#Survived, Sex, Pclass, Age, Embarked, Faixa_Idade"
   ]
  },
  {
   "cell_type": "code",
   "execution_count": 400,
   "id": "4286fd60-5bcd-4646-87ee-c8c9bd2164f5",
   "metadata": {},
   "outputs": [
    {
     "data": {
      "text/plain": [
       "<AxesSubplot:xlabel='Survived,Sex,Faixa_Idade'>"
      ]
     },
     "execution_count": 400,
     "metadata": {},
     "output_type": "execute_result"
    },
    {
     "data": {
      "image/png": "[encoded data removed]",
      "text/plain": [
       "<Figure size 432x288 with 1 Axes>"
      ]
     },
     "metadata": {
      "needs_background": "light"
     },
     "output_type": "display_data"
    }
   ],
   "source": [
    "agrupado.plot.bar(color = 'gray')"
   ]
  },
  {
   "cell_type": "code",
   "execution_count": 402,
   "id": "5c1615d2-cb18-4eef-88d6-419d6f00e586",
   "metadata": {},
   "outputs": [
    {
     "name": "stdout",
     "output_type": "stream",
     "text": [
      "<class 'pandas.core.frame.DataFrame'>\n",
      "RangeIndex: 891 entries, 0 to 890\n",
      "Data columns (total 9 columns):\n",
      " #   Column       Non-Null Count  Dtype   \n",
      "---  ------       --------------  -----   \n",
      " 0   Survived     891 non-null    int64   \n",
      " 1   Pclass       891 non-null    int64   \n",
      " 2   Sex          891 non-null    int64   \n",
      " 3   Age          891 non-null    int64   \n",
      " 4   SibSp        891 non-null    int64   \n",
      " 5   Parch        891 non-null    int64   \n",
      " 6   Fare         891 non-null    int64   \n",
      " 7   Embarked     891 non-null    int64   \n",
      " 8   Faixa_Idade  891 non-null    category\n",
      "dtypes: category(1), int64(8)\n",
      "memory usage: 57.4 KB\n"
     ]
    }
   ],
   "source": [
    "# Separando X e Y\n",
    "\n",
    "#previsores = titanic.drop('Survived', axis=1)\n",
    "#classe = titanic[['Survived']].copy()\n",
    "\n",
    "titanic.info()"
   ]
  },
  {
   "cell_type": "code",
   "execution_count": 403,
   "id": "c9194717-562f-4c95-a8de-ba834c0a538c",
   "metadata": {},
   "outputs": [],
   "source": [
    "# Modelo de árvore de decisão\n",
    "\n",
    "previsores = titanic.iloc[:,1:8].values\n",
    "classe = titanic.iloc[:,0].values"
   ]
  },
  {
   "cell_type": "code",
   "execution_count": 404,
   "id": "5c742687-4027-4f9b-9862-c1e37565efc2",
   "metadata": {},
   "outputs": [],
   "source": [
    "# Conversão dos atributos categóricos para atributos numéricos, passando o índice de cada atributo categórico\n",
    "#labelencoder = LabelEncoder()\n",
    "#previsores.iloc[:,2] = labelencoder.fit_transform(previsores.iloc[:,2])\n",
    "#previsores.iloc[:,6] = labelencoder.fit_transform(previsores.iloc[:,6])\n",
    "#previsores.iloc[:,8] = labelencoder.fit_transform(previsores.iloc[:,8])\n",
    "\n",
    "#previsores[:,2] = labelencoder.fit_transform(previsores[:,2])\n",
    "#previsores[:,7] = labelencoder.fit_transform(previsores[:,7])"
   ]
  },
  {
   "cell_type": "code",
   "execution_count": 405,
   "id": "24a30006-5558-440a-b466-e8e3cf7e808e",
   "metadata": {},
   "outputs": [],
   "source": [
    "# Divisão da base de dados entre treinamento e teste. Usamos 30% para testar e 70% para treinar. \n",
    "# Random_state = 0 para sempre obter a mesma divisão da base quando o código for executado\n",
    "X_treinamento, X_teste, y_treinamento, y_teste = train_test_split(previsores,\n",
    "                                                                  classe,\n",
    "                                                                  test_size = 0.3,\n",
    "                                                                  random_state = 0)"
   ]
  },
  {
   "cell_type": "code",
   "execution_count": 406,
   "id": "323b07e3-8950-46b0-b71b-e940a48be3e7",
   "metadata": {},
   "outputs": [
    {
     "data": {
      "text/plain": [
       "DecisionTreeClassifier()"
      ]
     },
     "execution_count": 406,
     "metadata": {},
     "output_type": "execute_result"
    }
   ],
   "source": [
    "# Criação e treinamento do modelo\n",
    "arvore = DecisionTreeClassifier()\n",
    "arvore.fit(X_treinamento, y_treinamento)"
   ]
  },
  {
   "cell_type": "code",
   "execution_count": 412,
   "id": "237bf26e-ca8c-4325-9528-56c6d09df6ec",
   "metadata": {},
   "outputs": [],
   "source": [
    "# Exportação da árvore de decisão para o formato .dot, para posterior visualização\n",
    "export_graphviz(arvore, out_file = 'tree.dot')\n",
    "\n",
    "#colar no webgraphviz.com"
   ]
  },
  {
   "cell_type": "code",
   "execution_count": 408,
   "id": "39bc1645-38de-4fe2-a73f-86f55833a928",
   "metadata": {},
   "outputs": [
    {
     "data": {
      "text/plain": [
       "array([0, 0, 0, 1, 1, 0, 1, 1, 0, 1, 0, 1, 0, 1, 1, 0, 0, 0, 0, 1, 0, 0,\n",
       "       0, 0, 1, 1, 1, 1, 0, 0, 0, 1, 0, 0, 0, 0, 0, 0, 0, 0, 0, 0, 0, 0,\n",
       "       1, 0, 0, 1, 0, 0, 0, 0, 1, 0, 0, 0, 0, 0, 0, 0, 1, 0, 1, 0, 1, 0,\n",
       "       1, 0, 0, 1, 0, 1, 0, 0, 0, 1, 1, 1, 0, 0, 0, 1, 0, 0, 0, 1, 1, 0,\n",
       "       1, 0, 0, 0, 1, 1, 0, 0, 0, 0, 0, 0, 0, 0, 0, 0, 0, 1, 1, 0, 0, 1,\n",
       "       0, 1, 1, 0, 1, 1, 1, 1, 0, 0, 0, 0, 0, 0, 0, 0, 0, 0, 0, 0, 1, 0,\n",
       "       0, 1, 0, 0, 0, 0, 0, 0, 0, 1, 0, 1, 1, 0, 0, 0, 1, 0, 0, 0, 1, 0,\n",
       "       1, 0, 0, 0, 1, 1, 0, 1, 1, 0, 0, 0, 0, 0, 0, 0, 0, 1, 0, 0, 1, 0,\n",
       "       1, 0, 0, 1, 0, 0, 1, 0, 0, 0, 1, 0, 0, 1, 1, 1, 1, 1, 0, 0, 0, 0,\n",
       "       1, 0, 0, 0, 0, 1, 0, 0, 1, 1, 1, 0, 0, 0, 0, 1, 0, 0, 1, 1, 0, 1,\n",
       "       0, 1, 1, 0, 0, 0, 0, 1, 0, 0, 0, 1, 1, 1, 0, 0, 1, 1, 1, 0, 0, 1,\n",
       "       1, 0, 1, 1, 1, 0, 0, 1, 0, 0, 1, 0, 0, 1, 1, 0, 0, 0, 0, 1, 0, 0,\n",
       "       0, 0, 0, 0], dtype=int64)"
      ]
     },
     "execution_count": 408,
     "metadata": {},
     "output_type": "execute_result"
    }
   ],
   "source": [
    "# Obtenção das previsões\n",
    "previsoes = arvore.predict(X_teste)\n",
    "previsoes"
   ]
  },
  {
   "cell_type": "code",
   "execution_count": 409,
   "id": "bfcca2f6-1bbb-4967-a680-8ac9b81fbfd7",
   "metadata": {},
   "outputs": [
    {
     "data": {
      "text/plain": [
       "array([[144,  24],\n",
       "       [ 32,  68]], dtype=int64)"
      ]
     },
     "execution_count": 409,
     "metadata": {},
     "output_type": "execute_result"
    }
   ],
   "source": [
    "#matriz de confusão\n",
    "confusao = confusion_matrix(y_teste, previsoes)\n",
    "confusao"
   ]
  },
  {
   "cell_type": "code",
   "execution_count": 410,
   "id": "0d350886-d0d5-430d-ad5c-18ef551c45a3",
   "metadata": {},
   "outputs": [
    {
     "data": {
      "text/plain": [
       "0.7910447761194029"
      ]
     },
     "execution_count": 410,
     "metadata": {},
     "output_type": "execute_result"
    }
   ],
   "source": [
    "#taxa acerto\n",
    "taxa_acerto = accuracy_score(y_teste, previsoes)\n",
    "taxa_acerto"
   ]
  },
  {
   "cell_type": "code",
   "execution_count": 411,
   "id": "d3c3eee6-4ca6-42e3-b00e-330b1c21b4c4",
   "metadata": {},
   "outputs": [
    {
     "data": {
      "text/plain": [
       "0.20895522388059706"
      ]
     },
     "execution_count": 411,
     "metadata": {},
     "output_type": "execute_result"
    }
   ],
   "source": [
    "#taxa erro\n",
    "taxa_erro = 1 - taxa_acerto\n",
    "taxa_erro"
   ]
  },
  {
   "cell_type": "code",
   "execution_count": null,
   "id": "984cf0f3-61ea-4609-bbd9-797a3873cb23",
   "metadata": {},
   "outputs": [],
   "source": []
  },
  {
   "cell_type": "code",
   "execution_count": null,
   "id": "61a9b1bd-a935-49f0-b823-d9213059b0a4",
   "metadata": {},
   "outputs": [],
   "source": []
  }
 ],
 "metadata": {
  "kernelspec": {
   "display_name": "Python 3",
   "language": "python",
   "name": "python3"
  },
  "language_info": {
   "codemirror_mode": {
    "name": "ipython",
    "version": 3
   },
   "file_extension": ".py",
   "mimetype": "text/x-python",
   "name": "python",
   "nbconvert_exporter": "python",
   "pygments_lexer": "ipython3",
   "version": "3.8.8"
  }
 },
 "nbformat": 4,
 "nbformat_minor": 5
}
